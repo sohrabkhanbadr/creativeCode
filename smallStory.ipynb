{
  "cells": [
    {
      "cell_type": "markdown",
      "metadata": {
        "id": "view-in-github",
        "colab_type": "text"
      },
      "source": [
        "<a href=\"https://colab.research.google.com/github/sohrabkhanbadr/creativeCode/blob/main/smallStory.ipynb\" target=\"_parent\"><img src=\"https://colab.research.google.com/assets/colab-badge.svg\" alt=\"Open In Colab\"/></a>"
      ]
    },
    {
      "cell_type": "markdown",
      "source": [
        "Creative Python code that creates a small story:"
      ],
      "metadata": {
        "id": "qiCDcHtAHUra"
      }
    },
    {
      "cell_type": "code",
      "source": [
        "import random\n",
        "\n",
        "places = [\"castle\", \"forest\", \"cave\", \"mountaintop\"]\n",
        "characters = [\"dragon\", \"princess\", \"knight\", \"wizard\"]\n",
        "actions = [\"battled\", \"rescued\", \"explored\", \"discovered\"]\n",
        "\n",
        "place = random.choice(places)\n",
        "character1 = random.choice(characters)\n",
        "action = random.choice(actions)\n",
        "character2 = random.choice(characters) if character1 != characters[2] else random.choice(characters[:2])  # Avoid knight rescuing himself\n",
        "\n",
        "print(f\"Once upon a time, in a {place}, a brave {character1} {action} a {character2}.\")"
      ],
      "outputs": [
        {
          "output_type": "stream",
          "name": "stdout",
          "text": [
            "Once upon a time, in a castle, a brave dragon explored a knight.\n"
          ]
        }
      ],
      "execution_count": 3,
      "metadata": {
        "colab": {
          "base_uri": "https://localhost:8080/"
        },
        "id": "swwZbjGJHUre",
        "outputId": "2cbe4d24-f611-4f80-c632-afe9db118667"
      }
    },
    {
      "cell_type": "markdown",
      "source": [
        "This code will randomly pick elements from each list and create a short story sentence.\n",
        "\n",
        "Would you like another creative code, or perhaps one that builds upon this story concept?"
      ],
      "metadata": {
        "id": "UxWpnyWZHUrg"
      }
    }
  ],
  "metadata": {
    "colab": {
      "provenance": [],
      "include_colab_link": true
    },
    "kernelspec": {
      "display_name": "Python 3",
      "name": "python3"
    }
  },
  "nbformat": 4,
  "nbformat_minor": 0
}